{
 "cells": [
  {
   "cell_type": "markdown",
   "id": "8e32800b",
   "metadata": {},
   "source": [
    "# Data Science workshop 10: Advanced regression (Solutions)\n",
    "\n",
    "Feel free to go through to refer back to the workshop content when solving these problem!\n",
    "\n",
    "## Debugging problems\n",
    "\n",
    "The following problems will have written code that is incorrect or missing in some way. Your job will be to debug it and fix it so that it works as intended. When debugging code, the error messages can foten tell you where a problem may lie. Here the comments indicate what the code is intended to do.\n",
    "\n",
    "For these you will be working with the same dataset as in the [workshop](workshop.ipynb) but now you will be working with Y2 as a target."
   ]
  },
  {
   "cell_type": "markdown",
   "id": "5bf93fb0",
   "metadata": {},
   "source": [
    "## 1) Examine the new target variable"
   ]
  },
  {
   "cell_type": "code",
   "execution_count": 1,
   "id": "d8259a7a",
   "metadata": {},
   "outputs": [
    {
     "data": {
      "text/html": [
       "<div>\n",
       "<style scoped>\n",
       "    .dataframe tbody tr th:only-of-type {\n",
       "        vertical-align: middle;\n",
       "    }\n",
       "\n",
       "    .dataframe tbody tr th {\n",
       "        vertical-align: top;\n",
       "    }\n",
       "\n",
       "    .dataframe thead th {\n",
       "        text-align: right;\n",
       "    }\n",
       "</style>\n",
       "<table border=\"1\" class=\"dataframe\">\n",
       "  <thead>\n",
       "    <tr style=\"text-align: right;\">\n",
       "      <th></th>\n",
       "      <th>X1</th>\n",
       "      <th>X2</th>\n",
       "      <th>X3</th>\n",
       "      <th>X4</th>\n",
       "      <th>X5</th>\n",
       "      <th>X6</th>\n",
       "      <th>X7</th>\n",
       "      <th>X8</th>\n",
       "      <th>Y1</th>\n",
       "      <th>Y2</th>\n",
       "    </tr>\n",
       "  </thead>\n",
       "  <tbody>\n",
       "    <tr>\n",
       "      <th>0</th>\n",
       "      <td>0.98</td>\n",
       "      <td>514.5</td>\n",
       "      <td>294.0</td>\n",
       "      <td>110.25</td>\n",
       "      <td>7.0</td>\n",
       "      <td>2.0</td>\n",
       "      <td>0.0</td>\n",
       "      <td>0.0</td>\n",
       "      <td>15.55</td>\n",
       "      <td>21.33</td>\n",
       "    </tr>\n",
       "    <tr>\n",
       "      <th>1</th>\n",
       "      <td>0.98</td>\n",
       "      <td>514.5</td>\n",
       "      <td>294.0</td>\n",
       "      <td>110.25</td>\n",
       "      <td>7.0</td>\n",
       "      <td>3.0</td>\n",
       "      <td>0.0</td>\n",
       "      <td>0.0</td>\n",
       "      <td>15.55</td>\n",
       "      <td>21.33</td>\n",
       "    </tr>\n",
       "    <tr>\n",
       "      <th>2</th>\n",
       "      <td>0.98</td>\n",
       "      <td>514.5</td>\n",
       "      <td>294.0</td>\n",
       "      <td>110.25</td>\n",
       "      <td>7.0</td>\n",
       "      <td>4.0</td>\n",
       "      <td>0.0</td>\n",
       "      <td>0.0</td>\n",
       "      <td>15.55</td>\n",
       "      <td>21.33</td>\n",
       "    </tr>\n",
       "    <tr>\n",
       "      <th>3</th>\n",
       "      <td>0.98</td>\n",
       "      <td>514.5</td>\n",
       "      <td>294.0</td>\n",
       "      <td>110.25</td>\n",
       "      <td>7.0</td>\n",
       "      <td>5.0</td>\n",
       "      <td>0.0</td>\n",
       "      <td>0.0</td>\n",
       "      <td>15.55</td>\n",
       "      <td>21.33</td>\n",
       "    </tr>\n",
       "    <tr>\n",
       "      <th>4</th>\n",
       "      <td>0.90</td>\n",
       "      <td>563.5</td>\n",
       "      <td>318.5</td>\n",
       "      <td>122.50</td>\n",
       "      <td>7.0</td>\n",
       "      <td>2.0</td>\n",
       "      <td>0.0</td>\n",
       "      <td>0.0</td>\n",
       "      <td>20.84</td>\n",
       "      <td>28.28</td>\n",
       "    </tr>\n",
       "    <tr>\n",
       "      <th>...</th>\n",
       "      <td>...</td>\n",
       "      <td>...</td>\n",
       "      <td>...</td>\n",
       "      <td>...</td>\n",
       "      <td>...</td>\n",
       "      <td>...</td>\n",
       "      <td>...</td>\n",
       "      <td>...</td>\n",
       "      <td>...</td>\n",
       "      <td>...</td>\n",
       "    </tr>\n",
       "    <tr>\n",
       "      <th>763</th>\n",
       "      <td>0.64</td>\n",
       "      <td>784.0</td>\n",
       "      <td>343.0</td>\n",
       "      <td>220.50</td>\n",
       "      <td>3.5</td>\n",
       "      <td>5.0</td>\n",
       "      <td>0.4</td>\n",
       "      <td>5.0</td>\n",
       "      <td>17.88</td>\n",
       "      <td>21.40</td>\n",
       "    </tr>\n",
       "    <tr>\n",
       "      <th>764</th>\n",
       "      <td>0.62</td>\n",
       "      <td>808.5</td>\n",
       "      <td>367.5</td>\n",
       "      <td>220.50</td>\n",
       "      <td>3.5</td>\n",
       "      <td>2.0</td>\n",
       "      <td>0.4</td>\n",
       "      <td>5.0</td>\n",
       "      <td>16.54</td>\n",
       "      <td>16.88</td>\n",
       "    </tr>\n",
       "    <tr>\n",
       "      <th>765</th>\n",
       "      <td>0.62</td>\n",
       "      <td>808.5</td>\n",
       "      <td>367.5</td>\n",
       "      <td>220.50</td>\n",
       "      <td>3.5</td>\n",
       "      <td>3.0</td>\n",
       "      <td>0.4</td>\n",
       "      <td>5.0</td>\n",
       "      <td>16.44</td>\n",
       "      <td>17.11</td>\n",
       "    </tr>\n",
       "    <tr>\n",
       "      <th>766</th>\n",
       "      <td>0.62</td>\n",
       "      <td>808.5</td>\n",
       "      <td>367.5</td>\n",
       "      <td>220.50</td>\n",
       "      <td>3.5</td>\n",
       "      <td>4.0</td>\n",
       "      <td>0.4</td>\n",
       "      <td>5.0</td>\n",
       "      <td>16.48</td>\n",
       "      <td>16.61</td>\n",
       "    </tr>\n",
       "    <tr>\n",
       "      <th>767</th>\n",
       "      <td>0.62</td>\n",
       "      <td>808.5</td>\n",
       "      <td>367.5</td>\n",
       "      <td>220.50</td>\n",
       "      <td>3.5</td>\n",
       "      <td>5.0</td>\n",
       "      <td>0.4</td>\n",
       "      <td>5.0</td>\n",
       "      <td>16.64</td>\n",
       "      <td>16.03</td>\n",
       "    </tr>\n",
       "  </tbody>\n",
       "</table>\n",
       "<p>768 rows × 10 columns</p>\n",
       "</div>"
      ],
      "text/plain": [
       "       X1     X2     X3      X4   X5   X6   X7   X8     Y1     Y2\n",
       "0    0.98  514.5  294.0  110.25  7.0  2.0  0.0  0.0  15.55  21.33\n",
       "1    0.98  514.5  294.0  110.25  7.0  3.0  0.0  0.0  15.55  21.33\n",
       "2    0.98  514.5  294.0  110.25  7.0  4.0  0.0  0.0  15.55  21.33\n",
       "3    0.98  514.5  294.0  110.25  7.0  5.0  0.0  0.0  15.55  21.33\n",
       "4    0.90  563.5  318.5  122.50  7.0  2.0  0.0  0.0  20.84  28.28\n",
       "..    ...    ...    ...     ...  ...  ...  ...  ...    ...    ...\n",
       "763  0.64  784.0  343.0  220.50  3.5  5.0  0.4  5.0  17.88  21.40\n",
       "764  0.62  808.5  367.5  220.50  3.5  2.0  0.4  5.0  16.54  16.88\n",
       "765  0.62  808.5  367.5  220.50  3.5  3.0  0.4  5.0  16.44  17.11\n",
       "766  0.62  808.5  367.5  220.50  3.5  4.0  0.4  5.0  16.48  16.61\n",
       "767  0.62  808.5  367.5  220.50  3.5  5.0  0.4  5.0  16.64  16.03\n",
       "\n",
       "[768 rows x 10 columns]"
      ]
     },
     "execution_count": 1,
     "metadata": {},
     "output_type": "execute_result"
    }
   ],
   "source": [
    "import pandas as pd\n",
    "import numpy as np\n",
    "import matplotlib.pyplot as plt\n",
    "import seaborn as sns\n",
    "\n",
    "data = pd.read_csv(\"data/ENB2012_data.csv\")\n",
    "#remove any data that doesn't have any information attached\n",
    "data.dropna(thresh = 3, inplace = True)\n",
    "data.dropna(axis = 1, inplace = True)\n",
    "#rpint out the data\n",
    "data"
   ]
  },
  {
   "cell_type": "code",
   "execution_count": 2,
   "id": "f0d3632f",
   "metadata": {},
   "outputs": [
    {
     "data": {
      "image/png": "[encoded data removed]",
      "text/plain": [
       "<Figure size 576x576 with 2 Axes>"
      ]
     },
     "metadata": {
      "needs_background": "light"
     },
     "output_type": "display_data"
    }
   ],
   "source": [
    "#create a correlation matrix\n",
    "corrMatrix = data.corr()\n",
    "\n",
    "#create the base axis for the plot\n",
    "fig, ax = plt.subplots(1,1, figsize = (8,8))\n",
    "\n",
    "#create a sns heatmap\n",
    "sns.heatmap(corrMatrix.round(3), annot = True,\n",
    "           ax = ax, cmap = \"magma\")\n",
    "\n",
    "#show the plot\n",
    "plt.show()"
   ]
  },
  {
   "cell_type": "code",
   "execution_count": 3,
   "id": "845e5b52",
   "metadata": {},
   "outputs": [
    {
     "data": {
      "image/png": "[encoded data removed]",
      "text/plain": [
       "<Figure size 720x432 with 1 Axes>"
      ]
     },
     "metadata": {
      "needs_background": "light"
     },
     "output_type": "display_data"
    }
   ],
   "source": [
    "#create the base axis\n",
    "fig, ax = plt.subplots(1,1, figsize = (10,6))\n",
    "\n",
    "#plot a histogram of Y2\n",
    "data[\"Y2\"].plot.hist(ax = ax, bins = 25,\n",
    "                    color = \"blue\",\n",
    "                    label = \"Y2\",\n",
    "                    alpha = 0.6)\n",
    "#plot a histogram of Y1\n",
    "data[\"Y1\"].plot.hist(ax = ax, bins = 25,\n",
    "                    color = \"red\",\n",
    "                    label = \"Y1\",\n",
    "                    alpha = 0.6)\n",
    "\n",
    "#add a legend\n",
    "ax.legend(fontsize = 20,\n",
    "         title = \"Target variable\",\n",
    "         title_fontsize = 15)\n",
    "\n",
    "#add titles\n",
    "ax.set_title(\"Y2 histogram\",\n",
    "            fontsize = 20,\n",
    "            pad = 20)\n",
    "ax.set_ylabel(\"Frequency\", \n",
    "             fontsize = 20,\n",
    "             labelpad = 20)\n",
    "ax.set_xlabel(\"Y2\",\n",
    "             fontsize = 20,\n",
    "             labelpad = 20)\n",
    "ax.tick_params(axis = \"both\",\n",
    "              which = \"both\",\n",
    "              labelsize = 20)\n",
    "\n",
    "#show the result\n",
    "plt.show()"
   ]
  },
  {
   "cell_type": "markdown",
   "id": "24314ed1",
   "metadata": {},
   "source": [
    "How does that compare to the distribution of Y1 and how are they related?"
   ]
  },
  {
   "cell_type": "markdown",
   "id": "7c2356d7",
   "metadata": {},
   "source": [
    "## 2) Implement the three linear regression\n",
    "\n",
    "Implement the three linear regression. How do the results compare to thos using the Y1 target variable?"
   ]
  },
  {
   "cell_type": "code",
   "execution_count": 4,
   "id": "ab2b9f25",
   "metadata": {},
   "outputs": [],
   "source": [
    "#import the splitting function from sklearn\n",
    "from sklearn.model_selection import train_test_split\n",
    "\n",
    "#remove the necessary target columns\n",
    "X = data.drop(columns = [\"Y1\", \"Y2\"])\n",
    "#set Y2 as our target\n",
    "y = data[[\"Y2\"]]\n",
    "\n",
    "#create the training and test data\n",
    "X_train, X_test, y_train, y_test = (\n",
    "    train_test_split(X, y, test_size = 0.3,\n",
    "                    random_state = 42)\n",
    ")"
   ]
  },
  {
   "cell_type": "code",
   "execution_count": 5,
   "id": "f7619e64",
   "metadata": {},
   "outputs": [
    {
     "name": "stdout",
     "output_type": "stream",
     "text": [
      "0.8866077367589531\n"
     ]
    }
   ],
   "source": [
    "#import the linear regression model\n",
    "from sklearn.linear_model import LinearRegression\n",
    "\n",
    "#create the linear regression\n",
    "reg = LinearRegression().fit(X_train, y_train)\n",
    "\n",
    "#print the result on the test data\n",
    "print(reg.score(X_test, y_test))"
   ]
  },
  {
   "cell_type": "code",
   "execution_count": 6,
   "id": "68a12f81",
   "metadata": {},
   "outputs": [
    {
     "name": "stdout",
     "output_type": "stream",
     "text": [
      "0.8731534144958804\n"
     ]
    }
   ],
   "source": [
    "#import the Lasso regression model\n",
    "from sklearn.linear_model import Lasso\n",
    "\n",
    "#iniate the model with an alpha = 0.1\n",
    "lasso_model = Lasso(alpha = 0.1)\n",
    "\n",
    "#fit the model to the data\n",
    "lasso_model.fit(X_train, y_train)\n",
    "\n",
    "#print the results on the test data\n",
    "print(lasso_model.score(X_test, y_test))"
   ]
  },
  {
   "cell_type": "code",
   "execution_count": 7,
   "id": "19728a3c",
   "metadata": {},
   "outputs": [
    {
     "name": "stdout",
     "output_type": "stream",
     "text": [
      "0.8841572243146434\n"
     ]
    }
   ],
   "source": [
    "#import the ridge regression\n",
    "from sklearn.linear_model import Ridge\n",
    "\n",
    "#initiate the ridge model with an alpha = 0.1\n",
    "ridge_model = Ridge(alpha = 0.1)\n",
    "\n",
    "#fit the model to the data\n",
    "ridge_model.fit(X_train, y_train)\n",
    "\n",
    "#print the results on the test data\n",
    "print(ridge_model.score(X_test, y_test))"
   ]
  },
  {
   "cell_type": "markdown",
   "id": "567b8407",
   "metadata": {},
   "source": [
    "What could you do to improve these results?\n",
    "\n",
    "- Think about adjusting the alpha values as we did in the workshop\n",
    "- Think about whether Elastic Net Regression would be useful in this situation\n",
    "- What could you do to better understand the effects of alpha?"
   ]
  },
  {
   "cell_type": "markdown",
   "id": "d6d3d67f",
   "metadata": {},
   "source": [
    "## 3) Implement the two non-linear regression\n",
    "\n",
    "Implement the two non-linear regressions. How do the results compare to those using the Y1 target variable?"
   ]
  },
  {
   "cell_type": "code",
   "execution_count": 8,
   "id": "54e697cf",
   "metadata": {},
   "outputs": [
    {
     "data": {
      "text/plain": [
       "0.9571803117062638"
      ]
     },
     "execution_count": 8,
     "metadata": {},
     "output_type": "execute_result"
    }
   ],
   "source": [
    "#import the decision tree regression module\n",
    "from sklearn.tree import DecisionTreeRegressor\n",
    "\n",
    "#create the regression tree with a max depth of 5\n",
    "reg_tree = DecisionTreeRegressor(random_state = 42,\n",
    "                                max_depth = 5)\n",
    "\n",
    "#fit the regression tree\n",
    "reg_tree.fit(X_train, y_train)\n",
    "\n",
    "#check the score on the test set\n",
    "reg_tree.score(X_test, y_test)"
   ]
  },
  {
   "cell_type": "code",
   "execution_count": 9,
   "id": "f1028b11",
   "metadata": {},
   "outputs": [
    {
     "name": "stdout",
     "output_type": "stream",
     "text": [
      "0.9654068343088746\n"
     ]
    }
   ],
   "source": [
    "#import the random forest library\n",
    "from sklearn.ensemble import RandomForestRegressor\n",
    "\n",
    "#create the random forest with 10 estimators\n",
    "reg_random_forest = RandomForestRegressor(n_estimators = 10,\n",
    "                                         random_state = 42)\n",
    "\n",
    "#fit the regression to the data\n",
    "reg_random_forest.fit(X_train, y_train.values.reshape(-1))\n",
    "\n",
    "#check the score on the test data\n",
    "print(reg_random_forest.score(X_test, y_test))"
   ]
  },
  {
   "cell_type": "markdown",
   "id": "4400c911",
   "metadata": {},
   "source": [
    "What could you do to improve the results?\n",
    "\n",
    "- Think about what paramaters could you adjust in the model\n",
    "- Is there anyway you could visualise the results\n",
    "- Can you visualise the trade off between bias and variance in the models"
   ]
  },
  {
   "cell_type": "markdown",
   "id": "09ea18b6",
   "metadata": {},
   "source": [
    "# Coding from scratch \n",
    "\n",
    "This section will include problems where no code is given"
   ]
  },
  {
   "cell_type": "markdown",
   "id": "89956e27",
   "metadata": {},
   "source": [
    "## 1) Find a dataset that you can perform these models on to test your knowledge\n",
    "\n",
    "Sources include:\n",
    "\n",
    "- [UCI machine learning repository](https://archive.ics.uci.edu/ml/index.php)\n",
    "- [Kaggle](https://www.kaggle.com/)\n",
    "- [Google datasets](https://datasetsearch.research.google.com/)"
   ]
  }
 ],
 "metadata": {
  "interpreter": {
   "hash": "843f7c499a7e22de44f7dbcda9c4aa16782f6e0b4bee123e18b0234ba9f94602"
  },
  "kernelspec": {
   "display_name": "DSS",
   "language": "python",
   "name": "python3"
  },
  "language_info": {
   "codemirror_mode": {
    "name": "ipython",
    "version": 3
   },
   "file_extension": ".py",
   "mimetype": "text/x-python",
   "name": "python",
   "nbconvert_exporter": "python",
   "pygments_lexer": "ipython3",
   "version": "3.7.7"
  }
 },
 "nbformat": 4,
 "nbformat_minor": 5
}
